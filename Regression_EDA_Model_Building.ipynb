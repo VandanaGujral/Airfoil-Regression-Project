{
 "cells": [
  {
   "cell_type": "code",
   "execution_count": 1,
   "id": "d6e222df",
   "metadata": {},
   "outputs": [],
   "source": [
    "import pandas as pd\n",
    "import numpy as np"
   ]
  },
  {
   "cell_type": "code",
   "execution_count": 2,
   "id": "ef39d185",
   "metadata": {},
   "outputs": [],
   "source": [
    "data=pd.read_csv('airfoil_self_noise.dat',sep='\\t')"
   ]
  },
  {
   "cell_type": "code",
   "execution_count": 3,
   "id": "d585115a",
   "metadata": {},
   "outputs": [
    {
     "data": {
      "text/html": [
       "<div>\n",
       "<style scoped>\n",
       "    .dataframe tbody tr th:only-of-type {\n",
       "        vertical-align: middle;\n",
       "    }\n",
       "\n",
       "    .dataframe tbody tr th {\n",
       "        vertical-align: top;\n",
       "    }\n",
       "\n",
       "    .dataframe thead th {\n",
       "        text-align: right;\n",
       "    }\n",
       "</style>\n",
       "<table border=\"1\" class=\"dataframe\">\n",
       "  <thead>\n",
       "    <tr style=\"text-align: right;\">\n",
       "      <th></th>\n",
       "      <th>800</th>\n",
       "      <th>0</th>\n",
       "      <th>0.3048</th>\n",
       "      <th>71.3</th>\n",
       "      <th>0.00266337</th>\n",
       "      <th>126.201</th>\n",
       "    </tr>\n",
       "  </thead>\n",
       "  <tbody>\n",
       "    <tr>\n",
       "      <th>0</th>\n",
       "      <td>1000</td>\n",
       "      <td>0.0</td>\n",
       "      <td>0.3048</td>\n",
       "      <td>71.3</td>\n",
       "      <td>0.002663</td>\n",
       "      <td>125.201</td>\n",
       "    </tr>\n",
       "    <tr>\n",
       "      <th>1</th>\n",
       "      <td>1250</td>\n",
       "      <td>0.0</td>\n",
       "      <td>0.3048</td>\n",
       "      <td>71.3</td>\n",
       "      <td>0.002663</td>\n",
       "      <td>125.951</td>\n",
       "    </tr>\n",
       "    <tr>\n",
       "      <th>2</th>\n",
       "      <td>1600</td>\n",
       "      <td>0.0</td>\n",
       "      <td>0.3048</td>\n",
       "      <td>71.3</td>\n",
       "      <td>0.002663</td>\n",
       "      <td>127.591</td>\n",
       "    </tr>\n",
       "    <tr>\n",
       "      <th>3</th>\n",
       "      <td>2000</td>\n",
       "      <td>0.0</td>\n",
       "      <td>0.3048</td>\n",
       "      <td>71.3</td>\n",
       "      <td>0.002663</td>\n",
       "      <td>127.461</td>\n",
       "    </tr>\n",
       "    <tr>\n",
       "      <th>4</th>\n",
       "      <td>2500</td>\n",
       "      <td>0.0</td>\n",
       "      <td>0.3048</td>\n",
       "      <td>71.3</td>\n",
       "      <td>0.002663</td>\n",
       "      <td>125.571</td>\n",
       "    </tr>\n",
       "    <tr>\n",
       "      <th>...</th>\n",
       "      <td>...</td>\n",
       "      <td>...</td>\n",
       "      <td>...</td>\n",
       "      <td>...</td>\n",
       "      <td>...</td>\n",
       "      <td>...</td>\n",
       "    </tr>\n",
       "    <tr>\n",
       "      <th>1497</th>\n",
       "      <td>2500</td>\n",
       "      <td>15.6</td>\n",
       "      <td>0.1016</td>\n",
       "      <td>39.6</td>\n",
       "      <td>0.052849</td>\n",
       "      <td>110.264</td>\n",
       "    </tr>\n",
       "    <tr>\n",
       "      <th>1498</th>\n",
       "      <td>3150</td>\n",
       "      <td>15.6</td>\n",
       "      <td>0.1016</td>\n",
       "      <td>39.6</td>\n",
       "      <td>0.052849</td>\n",
       "      <td>109.254</td>\n",
       "    </tr>\n",
       "    <tr>\n",
       "      <th>1499</th>\n",
       "      <td>4000</td>\n",
       "      <td>15.6</td>\n",
       "      <td>0.1016</td>\n",
       "      <td>39.6</td>\n",
       "      <td>0.052849</td>\n",
       "      <td>106.604</td>\n",
       "    </tr>\n",
       "    <tr>\n",
       "      <th>1500</th>\n",
       "      <td>5000</td>\n",
       "      <td>15.6</td>\n",
       "      <td>0.1016</td>\n",
       "      <td>39.6</td>\n",
       "      <td>0.052849</td>\n",
       "      <td>106.224</td>\n",
       "    </tr>\n",
       "    <tr>\n",
       "      <th>1501</th>\n",
       "      <td>6300</td>\n",
       "      <td>15.6</td>\n",
       "      <td>0.1016</td>\n",
       "      <td>39.6</td>\n",
       "      <td>0.052849</td>\n",
       "      <td>104.204</td>\n",
       "    </tr>\n",
       "  </tbody>\n",
       "</table>\n",
       "<p>1502 rows × 6 columns</p>\n",
       "</div>"
      ],
      "text/plain": [
       "       800     0  0.3048  71.3  0.00266337  126.201\n",
       "0     1000   0.0  0.3048  71.3    0.002663  125.201\n",
       "1     1250   0.0  0.3048  71.3    0.002663  125.951\n",
       "2     1600   0.0  0.3048  71.3    0.002663  127.591\n",
       "3     2000   0.0  0.3048  71.3    0.002663  127.461\n",
       "4     2500   0.0  0.3048  71.3    0.002663  125.571\n",
       "...    ...   ...     ...   ...         ...      ...\n",
       "1497  2500  15.6  0.1016  39.6    0.052849  110.264\n",
       "1498  3150  15.6  0.1016  39.6    0.052849  109.254\n",
       "1499  4000  15.6  0.1016  39.6    0.052849  106.604\n",
       "1500  5000  15.6  0.1016  39.6    0.052849  106.224\n",
       "1501  6300  15.6  0.1016  39.6    0.052849  104.204\n",
       "\n",
       "[1502 rows x 6 columns]"
      ]
     },
     "execution_count": 3,
     "metadata": {},
     "output_type": "execute_result"
    }
   ],
   "source": [
    "data"
   ]
  },
  {
   "cell_type": "code",
   "execution_count": 4,
   "id": "ee82ede6",
   "metadata": {},
   "outputs": [],
   "source": [
    "df=pd.read_csv('airfoil_self_noise.dat',sep='\\t',header=None)"
   ]
  },
  {
   "cell_type": "code",
   "execution_count": 5,
   "id": "29f1c2f2",
   "metadata": {},
   "outputs": [
    {
     "data": {
      "text/plain": [
       "<bound method NDFrame.head of          0     1       2     3         4        5\n",
       "0      800   0.0  0.3048  71.3  0.002663  126.201\n",
       "1     1000   0.0  0.3048  71.3  0.002663  125.201\n",
       "2     1250   0.0  0.3048  71.3  0.002663  125.951\n",
       "3     1600   0.0  0.3048  71.3  0.002663  127.591\n",
       "4     2000   0.0  0.3048  71.3  0.002663  127.461\n",
       "...    ...   ...     ...   ...       ...      ...\n",
       "1498  2500  15.6  0.1016  39.6  0.052849  110.264\n",
       "1499  3150  15.6  0.1016  39.6  0.052849  109.254\n",
       "1500  4000  15.6  0.1016  39.6  0.052849  106.604\n",
       "1501  5000  15.6  0.1016  39.6  0.052849  106.224\n",
       "1502  6300  15.6  0.1016  39.6  0.052849  104.204\n",
       "\n",
       "[1503 rows x 6 columns]>"
      ]
     },
     "execution_count": 5,
     "metadata": {},
     "output_type": "execute_result"
    }
   ],
   "source": [
    "df.head"
   ]
  },
  {
   "cell_type": "code",
   "execution_count": null,
   "id": "e536aa31",
   "metadata": {},
   "outputs": [],
   "source": []
  },
  {
   "cell_type": "code",
   "execution_count": null,
   "id": "6faa1f4a",
   "metadata": {},
   "outputs": [],
   "source": []
  },
  {
   "cell_type": "markdown",
   "id": "d3ad26a9",
   "metadata": {},
   "source": [
    "Data Set Information:\n",
    "\n",
    "The NASA data set comprises different size NACA 0012 airfoils at various wind tunnel speeds and angles of attack. The span of the airfoil and the observer position were the same in all of the experiments.\n",
    "\n",
    "\n",
    "Attribute Information:\n",
    "\n",
    "This problem has the following inputs:\n",
    "1. Frequency, in Hertzs.\n",
    "2. Angle of attack, in degrees.\n",
    "3. Chord length, in meters.\n",
    "4. Free-stream velocity, in meters per second.\n",
    "5. Suction side displacement thickness, in meters.\n",
    "\n",
    "The only output is:\n",
    "6. Scaled sound pressure level, in decibels."
   ]
  },
  {
   "cell_type": "code",
   "execution_count": 6,
   "id": "3ad75633",
   "metadata": {},
   "outputs": [],
   "source": [
    "df.columns=['Frequency','Angle of attack','Chord length','Free-stream velocity','Suction side','sound pressure']"
   ]
  },
  {
   "cell_type": "code",
   "execution_count": 7,
   "id": "8e5aa260",
   "metadata": {},
   "outputs": [
    {
     "data": {
      "text/html": [
       "<div>\n",
       "<style scoped>\n",
       "    .dataframe tbody tr th:only-of-type {\n",
       "        vertical-align: middle;\n",
       "    }\n",
       "\n",
       "    .dataframe tbody tr th {\n",
       "        vertical-align: top;\n",
       "    }\n",
       "\n",
       "    .dataframe thead th {\n",
       "        text-align: right;\n",
       "    }\n",
       "</style>\n",
       "<table border=\"1\" class=\"dataframe\">\n",
       "  <thead>\n",
       "    <tr style=\"text-align: right;\">\n",
       "      <th></th>\n",
       "      <th>Frequency</th>\n",
       "      <th>Angle of attack</th>\n",
       "      <th>Chord length</th>\n",
       "      <th>Free-stream velocity</th>\n",
       "      <th>Suction side</th>\n",
       "      <th>sound pressure</th>\n",
       "    </tr>\n",
       "  </thead>\n",
       "  <tbody>\n",
       "    <tr>\n",
       "      <th>0</th>\n",
       "      <td>800</td>\n",
       "      <td>0.0</td>\n",
       "      <td>0.3048</td>\n",
       "      <td>71.3</td>\n",
       "      <td>0.002663</td>\n",
       "      <td>126.201</td>\n",
       "    </tr>\n",
       "    <tr>\n",
       "      <th>1</th>\n",
       "      <td>1000</td>\n",
       "      <td>0.0</td>\n",
       "      <td>0.3048</td>\n",
       "      <td>71.3</td>\n",
       "      <td>0.002663</td>\n",
       "      <td>125.201</td>\n",
       "    </tr>\n",
       "    <tr>\n",
       "      <th>2</th>\n",
       "      <td>1250</td>\n",
       "      <td>0.0</td>\n",
       "      <td>0.3048</td>\n",
       "      <td>71.3</td>\n",
       "      <td>0.002663</td>\n",
       "      <td>125.951</td>\n",
       "    </tr>\n",
       "    <tr>\n",
       "      <th>3</th>\n",
       "      <td>1600</td>\n",
       "      <td>0.0</td>\n",
       "      <td>0.3048</td>\n",
       "      <td>71.3</td>\n",
       "      <td>0.002663</td>\n",
       "      <td>127.591</td>\n",
       "    </tr>\n",
       "    <tr>\n",
       "      <th>4</th>\n",
       "      <td>2000</td>\n",
       "      <td>0.0</td>\n",
       "      <td>0.3048</td>\n",
       "      <td>71.3</td>\n",
       "      <td>0.002663</td>\n",
       "      <td>127.461</td>\n",
       "    </tr>\n",
       "  </tbody>\n",
       "</table>\n",
       "</div>"
      ],
      "text/plain": [
       "   Frequency  Angle of attack  Chord length  Free-stream velocity  \\\n",
       "0        800              0.0        0.3048                  71.3   \n",
       "1       1000              0.0        0.3048                  71.3   \n",
       "2       1250              0.0        0.3048                  71.3   \n",
       "3       1600              0.0        0.3048                  71.3   \n",
       "4       2000              0.0        0.3048                  71.3   \n",
       "\n",
       "   Suction side  sound pressure  \n",
       "0      0.002663         126.201  \n",
       "1      0.002663         125.201  \n",
       "2      0.002663         125.951  \n",
       "3      0.002663         127.591  \n",
       "4      0.002663         127.461  "
      ]
     },
     "execution_count": 7,
     "metadata": {},
     "output_type": "execute_result"
    }
   ],
   "source": [
    "df.head()"
   ]
  },
  {
   "cell_type": "code",
   "execution_count": 8,
   "id": "2cd0e256",
   "metadata": {},
   "outputs": [],
   "source": [
    "X=df.iloc[:,:-1]\n",
    "y=df.iloc[::,-1]"
   ]
  },
  {
   "cell_type": "code",
   "execution_count": 9,
   "id": "3f470138",
   "metadata": {},
   "outputs": [
    {
     "data": {
      "text/html": [
       "<div>\n",
       "<style scoped>\n",
       "    .dataframe tbody tr th:only-of-type {\n",
       "        vertical-align: middle;\n",
       "    }\n",
       "\n",
       "    .dataframe tbody tr th {\n",
       "        vertical-align: top;\n",
       "    }\n",
       "\n",
       "    .dataframe thead th {\n",
       "        text-align: right;\n",
       "    }\n",
       "</style>\n",
       "<table border=\"1\" class=\"dataframe\">\n",
       "  <thead>\n",
       "    <tr style=\"text-align: right;\">\n",
       "      <th></th>\n",
       "      <th>Frequency</th>\n",
       "      <th>Angle of attack</th>\n",
       "      <th>Chord length</th>\n",
       "      <th>Free-stream velocity</th>\n",
       "      <th>Suction side</th>\n",
       "    </tr>\n",
       "  </thead>\n",
       "  <tbody>\n",
       "    <tr>\n",
       "      <th>0</th>\n",
       "      <td>800</td>\n",
       "      <td>0.0</td>\n",
       "      <td>0.3048</td>\n",
       "      <td>71.3</td>\n",
       "      <td>0.002663</td>\n",
       "    </tr>\n",
       "    <tr>\n",
       "      <th>1</th>\n",
       "      <td>1000</td>\n",
       "      <td>0.0</td>\n",
       "      <td>0.3048</td>\n",
       "      <td>71.3</td>\n",
       "      <td>0.002663</td>\n",
       "    </tr>\n",
       "    <tr>\n",
       "      <th>2</th>\n",
       "      <td>1250</td>\n",
       "      <td>0.0</td>\n",
       "      <td>0.3048</td>\n",
       "      <td>71.3</td>\n",
       "      <td>0.002663</td>\n",
       "    </tr>\n",
       "    <tr>\n",
       "      <th>3</th>\n",
       "      <td>1600</td>\n",
       "      <td>0.0</td>\n",
       "      <td>0.3048</td>\n",
       "      <td>71.3</td>\n",
       "      <td>0.002663</td>\n",
       "    </tr>\n",
       "    <tr>\n",
       "      <th>4</th>\n",
       "      <td>2000</td>\n",
       "      <td>0.0</td>\n",
       "      <td>0.3048</td>\n",
       "      <td>71.3</td>\n",
       "      <td>0.002663</td>\n",
       "    </tr>\n",
       "    <tr>\n",
       "      <th>...</th>\n",
       "      <td>...</td>\n",
       "      <td>...</td>\n",
       "      <td>...</td>\n",
       "      <td>...</td>\n",
       "      <td>...</td>\n",
       "    </tr>\n",
       "    <tr>\n",
       "      <th>1498</th>\n",
       "      <td>2500</td>\n",
       "      <td>15.6</td>\n",
       "      <td>0.1016</td>\n",
       "      <td>39.6</td>\n",
       "      <td>0.052849</td>\n",
       "    </tr>\n",
       "    <tr>\n",
       "      <th>1499</th>\n",
       "      <td>3150</td>\n",
       "      <td>15.6</td>\n",
       "      <td>0.1016</td>\n",
       "      <td>39.6</td>\n",
       "      <td>0.052849</td>\n",
       "    </tr>\n",
       "    <tr>\n",
       "      <th>1500</th>\n",
       "      <td>4000</td>\n",
       "      <td>15.6</td>\n",
       "      <td>0.1016</td>\n",
       "      <td>39.6</td>\n",
       "      <td>0.052849</td>\n",
       "    </tr>\n",
       "    <tr>\n",
       "      <th>1501</th>\n",
       "      <td>5000</td>\n",
       "      <td>15.6</td>\n",
       "      <td>0.1016</td>\n",
       "      <td>39.6</td>\n",
       "      <td>0.052849</td>\n",
       "    </tr>\n",
       "    <tr>\n",
       "      <th>1502</th>\n",
       "      <td>6300</td>\n",
       "      <td>15.6</td>\n",
       "      <td>0.1016</td>\n",
       "      <td>39.6</td>\n",
       "      <td>0.052849</td>\n",
       "    </tr>\n",
       "  </tbody>\n",
       "</table>\n",
       "<p>1503 rows × 5 columns</p>\n",
       "</div>"
      ],
      "text/plain": [
       "      Frequency  Angle of attack  Chord length  Free-stream velocity  \\\n",
       "0           800              0.0        0.3048                  71.3   \n",
       "1          1000              0.0        0.3048                  71.3   \n",
       "2          1250              0.0        0.3048                  71.3   \n",
       "3          1600              0.0        0.3048                  71.3   \n",
       "4          2000              0.0        0.3048                  71.3   \n",
       "...         ...              ...           ...                   ...   \n",
       "1498       2500             15.6        0.1016                  39.6   \n",
       "1499       3150             15.6        0.1016                  39.6   \n",
       "1500       4000             15.6        0.1016                  39.6   \n",
       "1501       5000             15.6        0.1016                  39.6   \n",
       "1502       6300             15.6        0.1016                  39.6   \n",
       "\n",
       "      Suction side  \n",
       "0         0.002663  \n",
       "1         0.002663  \n",
       "2         0.002663  \n",
       "3         0.002663  \n",
       "4         0.002663  \n",
       "...            ...  \n",
       "1498      0.052849  \n",
       "1499      0.052849  \n",
       "1500      0.052849  \n",
       "1501      0.052849  \n",
       "1502      0.052849  \n",
       "\n",
       "[1503 rows x 5 columns]"
      ]
     },
     "execution_count": 9,
     "metadata": {},
     "output_type": "execute_result"
    }
   ],
   "source": [
    "X"
   ]
  },
  {
   "cell_type": "code",
   "execution_count": 10,
   "id": "b7dc62c9",
   "metadata": {},
   "outputs": [
    {
     "data": {
      "text/plain": [
       "0       126.201\n",
       "1       125.201\n",
       "2       125.951\n",
       "3       127.591\n",
       "4       127.461\n",
       "         ...   \n",
       "1498    110.264\n",
       "1499    109.254\n",
       "1500    106.604\n",
       "1501    106.224\n",
       "1502    104.204\n",
       "Name: sound pressure, Length: 1503, dtype: float64"
      ]
     },
     "execution_count": 10,
     "metadata": {},
     "output_type": "execute_result"
    }
   ],
   "source": [
    "y"
   ]
  },
  {
   "cell_type": "code",
   "execution_count": 11,
   "id": "d21731da",
   "metadata": {},
   "outputs": [],
   "source": [
    "import seaborn as sns"
   ]
  },
  {
   "cell_type": "code",
   "execution_count": 12,
   "id": "36a11e32",
   "metadata": {},
   "outputs": [],
   "source": [
    "##first Do train test split\n",
    "from sklearn.model_selection import train_test_split\n",
    "X_train, X_test, y_train, y_test = train_test_split(X, y, test_size=0.33, random_state=42)\n"
   ]
  },
  {
   "cell_type": "code",
   "execution_count": 13,
   "id": "73dae7e9",
   "metadata": {},
   "outputs": [
    {
     "data": {
      "text/plain": [
       "<seaborn.axisgrid.PairGrid at 0x1b987d58be0>"
      ]
     },
     "execution_count": 13,
     "metadata": {},
     "output_type": "execute_result"
    },
    {
     "data": {
      "image/png": "[encoded data removed]",
      "text/plain": [
       "<Figure size 900x900 with 30 Axes>"
      ]
     },
     "metadata": {
      "needs_background": "light"
     },
     "output_type": "display_data"
    }
   ],
   "source": [
    "sns.pairplot(X_train)"
   ]
  },
  {
   "cell_type": "code",
   "execution_count": 14,
   "id": "3c495f7d",
   "metadata": {},
   "outputs": [],
   "source": [
    "import matplotlib.pyplot as plt"
   ]
  },
  {
   "cell_type": "code",
   "execution_count": 15,
   "id": "17dbe271",
   "metadata": {},
   "outputs": [
    {
     "data": {
      "text/html": [
       "<div>\n",
       "<style scoped>\n",
       "    .dataframe tbody tr th:only-of-type {\n",
       "        vertical-align: middle;\n",
       "    }\n",
       "\n",
       "    .dataframe tbody tr th {\n",
       "        vertical-align: top;\n",
       "    }\n",
       "\n",
       "    .dataframe thead th {\n",
       "        text-align: right;\n",
       "    }\n",
       "</style>\n",
       "<table border=\"1\" class=\"dataframe\">\n",
       "  <thead>\n",
       "    <tr style=\"text-align: right;\">\n",
       "      <th></th>\n",
       "      <th>Frequency</th>\n",
       "      <th>Angle of attack</th>\n",
       "      <th>Chord length</th>\n",
       "      <th>Free-stream velocity</th>\n",
       "      <th>Suction side</th>\n",
       "    </tr>\n",
       "  </thead>\n",
       "  <tbody>\n",
       "    <tr>\n",
       "      <th>Frequency</th>\n",
       "      <td>1.000000</td>\n",
       "      <td>-0.273327</td>\n",
       "      <td>-0.000324</td>\n",
       "      <td>0.125247</td>\n",
       "      <td>-0.239878</td>\n",
       "    </tr>\n",
       "    <tr>\n",
       "      <th>Angle of attack</th>\n",
       "      <td>-0.273327</td>\n",
       "      <td>1.000000</td>\n",
       "      <td>-0.498257</td>\n",
       "      <td>0.058603</td>\n",
       "      <td>0.762567</td>\n",
       "    </tr>\n",
       "    <tr>\n",
       "      <th>Chord length</th>\n",
       "      <td>-0.000324</td>\n",
       "      <td>-0.498257</td>\n",
       "      <td>1.000000</td>\n",
       "      <td>0.013061</td>\n",
       "      <td>-0.220849</td>\n",
       "    </tr>\n",
       "    <tr>\n",
       "      <th>Free-stream velocity</th>\n",
       "      <td>0.125247</td>\n",
       "      <td>0.058603</td>\n",
       "      <td>0.013061</td>\n",
       "      <td>1.000000</td>\n",
       "      <td>-0.000519</td>\n",
       "    </tr>\n",
       "    <tr>\n",
       "      <th>Suction side</th>\n",
       "      <td>-0.239878</td>\n",
       "      <td>0.762567</td>\n",
       "      <td>-0.220849</td>\n",
       "      <td>-0.000519</td>\n",
       "      <td>1.000000</td>\n",
       "    </tr>\n",
       "  </tbody>\n",
       "</table>\n",
       "</div>"
      ],
      "text/plain": [
       "                      Frequency  Angle of attack  Chord length  \\\n",
       "Frequency              1.000000        -0.273327     -0.000324   \n",
       "Angle of attack       -0.273327         1.000000     -0.498257   \n",
       "Chord length          -0.000324        -0.498257      1.000000   \n",
       "Free-stream velocity   0.125247         0.058603      0.013061   \n",
       "Suction side          -0.239878         0.762567     -0.220849   \n",
       "\n",
       "                      Free-stream velocity  Suction side  \n",
       "Frequency                         0.125247     -0.239878  \n",
       "Angle of attack                   0.058603      0.762567  \n",
       "Chord length                      0.013061     -0.220849  \n",
       "Free-stream velocity              1.000000     -0.000519  \n",
       "Suction side                     -0.000519      1.000000  "
      ]
     },
     "execution_count": 15,
     "metadata": {},
     "output_type": "execute_result"
    }
   ],
   "source": [
    "X_train.corr()"
   ]
  },
  {
   "cell_type": "code",
   "execution_count": 16,
   "id": "52f5ec9b",
   "metadata": {},
   "outputs": [
    {
     "name": "stderr",
     "output_type": "stream",
     "text": [
      "C:\\Users\\Dell\\anaconda3\\lib\\site-packages\\seaborn\\_decorators.py:36: FutureWarning: Pass the following variable as a keyword arg: x. From version 0.12, the only valid positional argument will be `data`, and passing other arguments without an explicit keyword will result in an error or misinterpretation.\n",
      "  warnings.warn(\n"
     ]
    },
    {
     "data": {
      "text/plain": [
       "<AxesSubplot:xlabel='Frequency'>"
      ]
     },
     "execution_count": 16,
     "metadata": {},
     "output_type": "execute_result"
    },
    {
     "data": {
      "image/png": "[encoded data removed]",
      "text/plain": [
       "<Figure size 432x288 with 1 Axes>"
      ]
     },
     "metadata": {
      "needs_background": "light"
     },
     "output_type": "display_data"
    }
   ],
   "source": [
    "##checking outloer in frequency column\n",
    "sns.boxplot(X_train['Frequency'])"
   ]
  },
  {
   "cell_type": "code",
   "execution_count": 17,
   "id": "4ab9a00d",
   "metadata": {},
   "outputs": [
    {
     "name": "stderr",
     "output_type": "stream",
     "text": [
      "C:\\Users\\Dell\\anaconda3\\lib\\site-packages\\seaborn\\_decorators.py:36: FutureWarning: Pass the following variables as keyword args: x, y. From version 0.12, the only valid positional argument will be `data`, and passing other arguments without an explicit keyword will result in an error or misinterpretation.\n",
      "  warnings.warn(\n"
     ]
    },
    {
     "data": {
      "text/plain": [
       "<AxesSubplot:xlabel='Frequency', ylabel='sound pressure'>"
      ]
     },
     "execution_count": 17,
     "metadata": {},
     "output_type": "execute_result"
    },
    {
     "data": {
      "image/png": "[encoded data removed]",
      "text/plain": [
       "<Figure size 432x288 with 1 Axes>"
      ]
     },
     "metadata": {
      "needs_background": "light"
     },
     "output_type": "display_data"
    }
   ],
   "source": [
    "##correlation between Frequency and outpou feature\n",
    "sns.scatterplot(X_train['Frequency'],y)"
   ]
  },
  {
   "cell_type": "code",
   "execution_count": 18,
   "id": "debc7a75",
   "metadata": {},
   "outputs": [
    {
     "data": {
      "text/plain": [
       "1456"
      ]
     },
     "execution_count": 18,
     "metadata": {},
     "output_type": "execute_result"
    }
   ],
   "source": [
    "len(df['sound pressure'].unique())"
   ]
  },
  {
   "cell_type": "code",
   "execution_count": 19,
   "id": "179853cf",
   "metadata": {},
   "outputs": [
    {
     "name": "stderr",
     "output_type": "stream",
     "text": [
      "C:\\Users\\Dell\\anaconda3\\lib\\site-packages\\seaborn\\_decorators.py:36: FutureWarning: Pass the following variable as a keyword arg: x. From version 0.12, the only valid positional argument will be `data`, and passing other arguments without an explicit keyword will result in an error or misinterpretation.\n",
      "  warnings.warn(\n"
     ]
    },
    {
     "data": {
      "text/plain": [
       "<AxesSubplot:xlabel='sound pressure'>"
      ]
     },
     "execution_count": 19,
     "metadata": {},
     "output_type": "execute_result"
    },
    {
     "data": {
      "image/png": "[encoded data removed]",
      "text/plain": [
       "<Figure size 432x288 with 1 Axes>"
      ]
     },
     "metadata": {
      "needs_background": "light"
     },
     "output_type": "display_data"
    }
   ],
   "source": [
    "##checking outloer in frequency column\n",
    "sns.boxplot(df['sound pressure'])"
   ]
  },
  {
   "cell_type": "markdown",
   "id": "2bcb5060",
   "metadata": {},
   "source": [
    "# Linear Regression"
   ]
  },
  {
   "cell_type": "code",
   "execution_count": 20,
   "id": "4a1bad05",
   "metadata": {},
   "outputs": [
    {
     "name": "stdout",
     "output_type": "stream",
     "text": [
      "[-23.86411415 -18.77845803 -23.14986364 -26.27742868 -25.95273856]\n",
      "-23.604520611637486\n"
     ]
    }
   ],
   "source": [
    "from sklearn.linear_model import LinearRegression\n",
    "from sklearn.model_selection import cross_val_score\n",
    "lin_regressor=LinearRegression()\n",
    "lin_regressor.fit(X_train,y_train)\n",
    "msc=cross_val_score(lin_regressor,X_train,y_train,scoring='neg_mean_squared_error',cv=5)\n",
    "print(msc)\n",
    "print(np.mean(msc))"
   ]
  },
  {
   "cell_type": "markdown",
   "id": "29f65b16",
   "metadata": {},
   "source": [
    "# Ridge Regression"
   ]
  },
  {
   "cell_type": "code",
   "execution_count": 21,
   "id": "70f8dd97",
   "metadata": {},
   "outputs": [
    {
     "data": {
      "text/plain": [
       "GridSearchCV(cv=5, estimator=Ridge(),\n",
       "             param_grid={'alpha': [0.0, 36, 36, 63, 63, 63, 63, 1e-10, 1e-08, 5,\n",
       "                                   10, 20, 1e-15, 1e-10, 1e-08, 0.001, 0.01, 1,\n",
       "                                   5, 10, 20]},\n",
       "             scoring='neg_mean_squared_error')"
      ]
     },
     "execution_count": 21,
     "metadata": {},
     "output_type": "execute_result"
    }
   ],
   "source": [
    "from sklearn.linear_model import Ridge\n",
    "from sklearn.model_selection import GridSearchCV\n",
    "ridge=Ridge()\n",
    "\n",
    "params={'alpha':[1e-1536,36,36,63,63,63,63,1e-10,1e-8,5,10,20,1e-15,1e-10,1e-8,1e-3,1e-2,1,5,10,20]}\n",
    "ridge_regressor=GridSearchCV(ridge,params,scoring='neg_mean_squared_error',cv=5)\n",
    "ridge_regressor.fit(X_train,y_train)"
   ]
  },
  {
   "cell_type": "code",
   "execution_count": 22,
   "id": "bddbb91c",
   "metadata": {},
   "outputs": [
    {
     "name": "stdout",
     "output_type": "stream",
     "text": [
      "{'alpha': 0.001}\n",
      "-23.60289127103825\n"
     ]
    }
   ],
   "source": [
    "print(ridge_regressor.best_params_)\n",
    "print(ridge_regressor.best_score_)"
   ]
  },
  {
   "cell_type": "markdown",
   "id": "a7989162",
   "metadata": {},
   "source": [
    "# Lasso Regression"
   ]
  },
  {
   "cell_type": "code",
   "execution_count": 23,
   "id": "89966f1d",
   "metadata": {},
   "outputs": [
    {
     "name": "stderr",
     "output_type": "stream",
     "text": [
      "C:\\Users\\Dell\\anaconda3\\lib\\site-packages\\sklearn\\linear_model\\_coordinate_descent.py:530: ConvergenceWarning: Objective did not converge. You might want to increase the number of iterations. Duality gap: 9256.150616415085, tolerance: 3.811589243499877\n",
      "  model = cd_fast.enet_coordinate_descent(\n",
      "C:\\Users\\Dell\\anaconda3\\lib\\site-packages\\sklearn\\linear_model\\_coordinate_descent.py:530: ConvergenceWarning: Objective did not converge. You might want to increase the number of iterations. Duality gap: 9760.405262038043, tolerance: 3.8427835972156523\n",
      "  model = cd_fast.enet_coordinate_descent(\n",
      "C:\\Users\\Dell\\anaconda3\\lib\\site-packages\\sklearn\\linear_model\\_coordinate_descent.py:530: ConvergenceWarning: Objective did not converge. You might want to increase the number of iterations. Duality gap: 9330.435434744284, tolerance: 3.7589641618535987\n",
      "  model = cd_fast.enet_coordinate_descent(\n",
      "C:\\Users\\Dell\\anaconda3\\lib\\site-packages\\sklearn\\linear_model\\_coordinate_descent.py:530: ConvergenceWarning: Objective did not converge. You might want to increase the number of iterations. Duality gap: 9030.165089911954, tolerance: 3.9441551330591818\n",
      "  model = cd_fast.enet_coordinate_descent(\n"
     ]
    },
    {
     "data": {
      "text/plain": [
       "GridSearchCV(cv=5, estimator=Lasso(),\n",
       "             param_grid={'alpha': [1e-15, 1e-10, 1e-08, 0.001, 0.01, 1, 5, 36,\n",
       "                                   36, 63, 63, 63, 63, 10, 20, 1e-08, 0.001,\n",
       "                                   0.01, 1, 5, 10, 20, 1e-08, 0.001, 0.01, 1, 5,\n",
       "                                   10, 20]},\n",
       "             scoring='neg_mean_squared_error')"
      ]
     },
     "execution_count": 23,
     "metadata": {},
     "output_type": "execute_result"
    }
   ],
   "source": [
    "from sklearn.linear_model import Lasso\n",
    "from sklearn.model_selection import GridSearchCV\n",
    "lasso=Lasso()\n",
    "\n",
    "params={'alpha':[1e-15,1e-10,1e-8,1e-3,1e-2,1,5,36,36,63,63,63,63,10,20,1e-8,1e-3,1e-2,1,5,10,20,1e-8,1e-3,1e-2,1,5,10,20]}\n",
    "lasso_regressor=GridSearchCV(lasso,params,scoring='neg_mean_squared_error',cv=5)\n",
    "lasso_regressor.fit(X_train,y_train)"
   ]
  },
  {
   "cell_type": "code",
   "execution_count": 24,
   "id": "daf55aed",
   "metadata": {},
   "outputs": [
    {
     "name": "stdout",
     "output_type": "stream",
     "text": [
      "{'alpha': 1e-08}\n",
      "-23.604520590618996\n"
     ]
    }
   ],
   "source": [
    "print(lasso_regressor.best_params_)\n",
    "print(lasso_regressor.best_score_)"
   ]
  },
  {
   "cell_type": "markdown",
   "id": "af3a250e",
   "metadata": {},
   "source": [
    "# KNN Regression"
   ]
  },
  {
   "cell_type": "code",
   "execution_count": 25,
   "id": "edec358a",
   "metadata": {},
   "outputs": [
    {
     "data": {
      "text/plain": [
       "KNeighborsRegressor()"
      ]
     },
     "execution_count": 25,
     "metadata": {},
     "output_type": "execute_result"
    }
   ],
   "source": [
    "from sklearn.neighbors import KNeighborsRegressor\n",
    "neigh = KNeighborsRegressor(n_neighbors=5)\n",
    "neigh.fit(X_train,y_train)\n"
   ]
  },
  {
   "cell_type": "markdown",
   "id": "7180e164",
   "metadata": {},
   "source": [
    "# 5.4 Support Vector Regressor"
   ]
  },
  {
   "cell_type": "code",
   "execution_count": 26,
   "id": "6847d237",
   "metadata": {},
   "outputs": [
    {
     "data": {
      "text/plain": [
       "SVR()"
      ]
     },
     "execution_count": 26,
     "metadata": {},
     "output_type": "execute_result"
    }
   ],
   "source": [
    "from sklearn.svm import SVR\n",
    "from sklearn.metrics import mean_absolute_error, r2_score\n",
    "svr = SVR()\n",
    "svr.fit(X_train, y_train)\n"
   ]
  },
  {
   "cell_type": "markdown",
   "id": "652eff4f",
   "metadata": {},
   "source": [
    "# Decesion Tree"
   ]
  },
  {
   "cell_type": "code",
   "execution_count": 27,
   "id": "3b79330f",
   "metadata": {},
   "outputs": [],
   "source": [
    "from sklearn.ensemble import RandomForestRegressor\n",
    "from sklearn.metrics import mean_absolute_error, r2_score\n",
    "\n",
    "rf = RandomForestRegressor()\n",
    "rf.fit(X_train, y_train)\n",
    "rf_pred = rf.predict(X_test)\n"
   ]
  },
  {
   "cell_type": "markdown",
   "id": "c3877e87",
   "metadata": {},
   "source": [
    "# Prediction"
   ]
  },
  {
   "cell_type": "code",
   "execution_count": 28,
   "id": "58de3038",
   "metadata": {},
   "outputs": [
    {
     "name": "stdout",
     "output_type": "stream",
     "text": [
      "0.5124474986138432\n"
     ]
    }
   ],
   "source": [
    "prediction_linear=lin_regressor.predict(X_test)\n",
    "from sklearn.metrics import r2_score\n",
    "r2_score1=r2_score(y_test,prediction_linear)\n",
    "print(r2_score1)"
   ]
  },
  {
   "cell_type": "code",
   "execution_count": 29,
   "id": "451586c4",
   "metadata": {},
   "outputs": [
    {
     "name": "stdout",
     "output_type": "stream",
     "text": [
      "0.5125022911438959\n"
     ]
    }
   ],
   "source": [
    "prediction_ridge=ridge_regressor.predict(X_test)\n",
    "from sklearn.metrics import r2_score\n",
    "r2_score1=r2_score(y_test,prediction_ridge)\n",
    "print(r2_score1)"
   ]
  },
  {
   "cell_type": "code",
   "execution_count": 30,
   "id": "259ec03b",
   "metadata": {},
   "outputs": [
    {
     "name": "stdout",
     "output_type": "stream",
     "text": [
      "0.5124475019453937\n"
     ]
    }
   ],
   "source": [
    "prediction_lasso=lasso_regressor.predict(X_test)\n",
    "from sklearn.metrics import r2_score\n",
    "r2_score1=r2_score(y_test,prediction_lasso)\n",
    "print(r2_score1)"
   ]
  },
  {
   "cell_type": "code",
   "execution_count": 31,
   "id": "98d0e322",
   "metadata": {},
   "outputs": [
    {
     "name": "stdout",
     "output_type": "stream",
     "text": [
      "0.5124475019453937\n"
     ]
    }
   ],
   "source": [
    "prediction_KNN=neigh.predict(X_test)\n",
    "from sklearn.metrics import r2_score\n",
    "\n",
    "mae = mean_absolute_error(y_test, prediction_KNN)\n",
    "r2 = r2_score(y_test, prediction_KNN)\n",
    "print(r2_score1)\n"
   ]
  },
  {
   "cell_type": "code",
   "execution_count": 32,
   "id": "437444c5",
   "metadata": {},
   "outputs": [
    {
     "name": "stdout",
     "output_type": "stream",
     "text": [
      "0.11649932904323934\n"
     ]
    }
   ],
   "source": [
    "prediction_svr = svr.predict(X_test)\n",
    "mae = mean_absolute_error(y_test, prediction_svr)\n",
    "r2 = r2_score(y_test, prediction_svr)\n",
    "print(r2)\n"
   ]
  },
  {
   "cell_type": "code",
   "execution_count": 33,
   "id": "1904e2f1",
   "metadata": {},
   "outputs": [
    {
     "name": "stdout",
     "output_type": "stream",
     "text": [
      "0.9265871812079849\n",
      "R2 Score value: 0.9266\n",
      "MAE value: 1.3577\n"
     ]
    }
   ],
   "source": [
    "mae = mean_absolute_error(y_test, rf_pred)\n",
    "r2 = r2_score(y_test, rf_pred)\n",
    "print(r2)\n",
    "print (\"R2 Score value: {:.4f}\".format(r2))\n",
    "print (\"MAE value: {:.4f}\".format(mae))"
   ]
  },
  {
   "cell_type": "code",
   "execution_count": 34,
   "id": "aa9240a3",
   "metadata": {},
   "outputs": [],
   "source": [
    "import pickle\n",
    "pickle.dump(rf,open('model_1.pkl','wb'))"
   ]
  },
  {
   "cell_type": "code",
   "execution_count": 35,
   "id": "3d3282a7",
   "metadata": {},
   "outputs": [
    {
     "data": {
      "text/plain": [
       "array([124.214  , 119.2577 , 119.20162, 135.93382, 134.42668, 123.5725 ,\n",
       "       123.85572, 133.48367, 133.94741, 127.37022, 126.50238, 112.83948,\n",
       "       133.24176, 132.56389, 125.0905 , 108.13266, 130.23786, 130.75471,\n",
       "       128.45166, 123.2214 , 125.28371, 126.75817, 111.02184, 125.96506,\n",
       "       124.22437, 125.79536, 129.57756, 131.17425, 109.03352, 130.94489,\n",
       "       131.82885, 121.91285, 128.27143, 119.25463, 119.34456, 132.70688,\n",
       "       133.82632, 129.91542, 120.73102, 112.16294, 125.38582, 134.90885,\n",
       "       127.08227, 121.60498, 127.34929, 134.62113, 130.00252, 118.93827,\n",
       "       121.52387, 133.93385, 132.43861, 114.18186, 129.68246, 126.50864,\n",
       "       126.96386, 120.68105, 123.65595, 129.36324, 122.50844, 118.65665,\n",
       "       126.06033, 134.47918, 130.46606, 132.99219, 117.67621, 125.26466,\n",
       "       123.60879, 120.63854, 126.64449, 129.14991, 128.53208, 129.69805,\n",
       "       128.66569, 116.93874, 129.35739, 127.98298, 130.69293, 132.6037 ,\n",
       "       134.13832, 136.16593, 124.65902, 120.03559, 122.7943 , 125.543  ,\n",
       "       121.90154, 117.60966, 111.42726, 130.5347 , 114.9588 , 119.19725,\n",
       "       118.12776, 115.33796, 124.37896, 133.76385, 116.75003, 117.0282 ,\n",
       "       116.72682, 116.06544, 131.88993, 125.52614, 128.56546, 108.6744 ,\n",
       "       130.23672, 119.90588, 124.22295, 128.36983, 117.37787, 121.25821,\n",
       "       129.9036 , 120.97674, 121.72833, 132.72696, 128.62477, 128.83893,\n",
       "       122.04018, 134.22615, 116.10654, 112.8009 , 129.43149, 114.75055,\n",
       "       129.20772, 130.85457, 128.42557, 129.45533, 108.19391, 124.85505,\n",
       "       127.53331, 117.30122, 129.80106, 108.23081, 130.56915, 125.65114,\n",
       "       109.16693, 122.79782, 134.56904, 127.92906, 127.61997, 117.92461,\n",
       "       128.58138, 126.95199, 123.69313, 130.74753, 128.42686, 124.68428,\n",
       "       126.75199, 125.67681, 123.43105, 128.55129, 129.12061, 129.10162,\n",
       "       125.83009, 134.95863, 115.36648, 133.82214, 121.6182 , 128.87673,\n",
       "       130.60121, 126.90504, 136.53662, 123.56311, 125.04078, 118.84495,\n",
       "       123.25455, 120.52661, 117.44997, 130.85626, 128.27601, 119.94346,\n",
       "       122.81099, 134.84314, 120.52721, 127.41452, 128.1218 , 130.97139,\n",
       "       117.77149, 117.08603, 125.40275, 123.50666, 126.88628, 120.03613,\n",
       "       129.41269, 117.01127, 111.19386, 131.73383, 118.96876, 124.15634,\n",
       "       108.99026, 131.93085, 112.36679, 130.03039, 121.66697, 116.1879 ,\n",
       "       117.39135, 124.88561, 128.30529, 132.27268, 120.93586, 129.37554,\n",
       "       128.02774, 116.6475 , 123.85688, 124.66257, 116.94946, 129.3303 ,\n",
       "       125.26793, 127.56876, 125.38143, 131.92817, 126.66122, 126.60497,\n",
       "       121.59536, 132.78612, 115.71006, 134.31615, 124.90238, 122.63905,\n",
       "       125.97915, 122.4882 , 130.07766, 111.69028, 132.74931, 115.97812,\n",
       "       128.24607, 131.4328 , 123.22508, 126.71634, 128.89935, 131.08471,\n",
       "       122.55518, 125.74126, 128.89527, 132.94286, 126.92269, 117.5849 ,\n",
       "       122.14715, 127.15001, 134.9124 , 132.64059, 126.37839, 120.22794,\n",
       "       110.92321, 123.22313, 114.74648, 117.86349, 129.04671, 128.48765,\n",
       "       124.66346, 131.52563, 118.34212, 133.13928, 115.90685, 105.81031,\n",
       "       121.43683, 121.8477 , 134.5044 , 124.64818, 130.6847 , 115.45632,\n",
       "       120.30217, 118.06531, 120.27695, 126.7445 , 126.88392, 133.53154,\n",
       "       135.66244, 121.52668, 131.98353, 127.47683, 128.0653 , 123.27549,\n",
       "       134.76074, 121.8044 , 122.75399, 132.88528, 129.55271, 123.54437,\n",
       "       131.67409, 128.90084, 125.70763, 123.13977, 125.88697, 124.11   ,\n",
       "       126.6751 , 121.49953, 128.88144, 129.70116, 126.79965, 119.50862,\n",
       "       129.74505, 124.02945, 114.61711, 126.11624, 124.77277, 111.79952,\n",
       "       122.91453, 124.76404, 137.17278, 115.00957, 126.46902, 126.81362,\n",
       "       134.27563, 132.28047, 131.13248, 133.69468, 117.73002, 122.36566,\n",
       "       117.32552, 121.66025, 121.36124, 124.82881, 118.85493, 119.36499,\n",
       "       125.77073, 129.57058, 116.2446 , 130.89945, 132.9103 , 124.1395 ,\n",
       "       124.49488, 121.33664, 118.90096, 128.5178 , 130.5764 , 116.27047,\n",
       "       130.94122, 117.36677, 128.93578, 125.82732, 111.4569 , 125.38672,\n",
       "       126.2269 , 108.94376, 130.86116, 126.44115, 122.5447 , 131.89542,\n",
       "       126.07627, 128.60499, 127.50035, 126.55647, 131.59678, 125.95774,\n",
       "       113.38293, 129.65484, 119.40851, 125.83851, 135.15409, 121.94517,\n",
       "       124.61842, 130.46342, 126.046  , 122.55742, 126.84688, 126.57896,\n",
       "       134.17896, 131.77264, 132.56032, 114.99557, 123.33404, 117.87317,\n",
       "       117.9217 , 128.34881, 113.61966, 123.94822, 120.72641, 125.84981,\n",
       "       125.94017, 125.97614, 128.69251, 123.45544, 122.74756, 129.61699,\n",
       "       113.45165, 127.16701, 122.56588, 126.05527, 133.85221, 131.64559,\n",
       "       131.8742 , 119.04924, 130.47551, 130.31871, 131.41939, 129.60536,\n",
       "       124.75892, 131.98888, 123.92813, 132.64842, 123.61894, 133.29161,\n",
       "       123.47636, 126.16298, 130.71107, 126.97325, 134.81588, 131.72878,\n",
       "       130.77069, 127.31191, 124.23945, 125.2125 , 119.46183, 132.14944,\n",
       "       128.10691, 128.25632, 113.38233, 116.33125, 120.735  , 124.13715,\n",
       "       127.6063 , 119.85945, 128.77348, 125.98646, 121.19619, 112.73363,\n",
       "       122.90714, 117.10981, 129.42082, 116.86985, 128.42804, 113.33977,\n",
       "       132.90941, 133.16741, 124.48589, 125.6985 , 118.79472, 122.6671 ,\n",
       "       125.84195, 133.46722, 110.62224, 129.71634, 123.37452, 127.58478,\n",
       "       127.75535, 111.38888, 118.73782, 125.35457, 120.70858, 127.30109,\n",
       "       122.77134, 120.54473, 116.66499, 133.0751 , 128.73222, 113.34286,\n",
       "       127.51058, 127.1472 , 118.65321, 114.81146, 123.09724, 114.23775,\n",
       "       121.38103, 124.72052, 128.59365, 128.7839 , 128.08724, 113.73187,\n",
       "       127.10624, 111.10586, 116.40003, 124.03344, 109.41678, 116.71284,\n",
       "       128.08981, 130.32641, 119.29418, 115.04668, 113.70617, 128.44545,\n",
       "       113.31151, 133.84739, 126.76175, 129.28384, 114.57956, 127.38621,\n",
       "       125.55114, 125.52914, 124.31184, 133.45443, 118.91118, 125.15653,\n",
       "       121.39542, 125.72477, 127.53368, 122.59745, 113.93383, 124.32588,\n",
       "       111.62415, 132.05562, 122.38185, 127.99317, 124.45019, 131.82525,\n",
       "       119.77962, 127.18162, 129.55145, 132.97326])"
      ]
     },
     "execution_count": 35,
     "metadata": {},
     "output_type": "execute_result"
    }
   ],
   "source": [
    "pickled_model = pickle.load(open('model_1.pkl','rb'))\n",
    "pickled_model.predict(X_test)"
   ]
  },
  {
   "cell_type": "code",
   "execution_count": null,
   "id": "e54c21e0",
   "metadata": {},
   "outputs": [],
   "source": []
  },
  {
   "cell_type": "code",
   "execution_count": null,
   "id": "c853fa75",
   "metadata": {},
   "outputs": [],
   "source": []
  }
 ],
 "metadata": {
  "kernelspec": {
   "display_name": "Python 3",
   "language": "python",
   "name": "python3"
  },
  "language_info": {
   "codemirror_mode": {
    "name": "ipython",
    "version": 3
   },
   "file_extension": ".py",
   "mimetype": "text/x-python",
   "name": "python",
   "nbconvert_exporter": "python",
   "pygments_lexer": "ipython3",
   "version": "3.8.8"
  }
 },
 "nbformat": 4,
 "nbformat_minor": 5
}
